{
  "nbformat": 4,
  "nbformat_minor": 0,
  "metadata": {
    "kernelspec": {
      "display_name": "Python 3",
      "language": "python",
      "name": "python3"
    },
    "language_info": {
      "codemirror_mode": {
        "name": "ipython",
        "version": 3
      },
      "file_extension": ".py",
      "mimetype": "text/x-python",
      "name": "python",
      "nbconvert_exporter": "python",
      "pygments_lexer": "ipython3",
      "version": "3.7.6"
    },
    "papermill": {
      "duration": 26.432414,
      "end_time": "2020-10-19T12:41:56.937380",
      "environment_variables": {},
      "exception": null,
      "input_path": "__notebook__.ipynb",
      "output_path": "__notebook__.ipynb",
      "parameters": {},
      "start_time": "2020-10-19T12:41:30.504966",
      "version": "2.1.0"
    },
    "colab": {
      "name": "text-to-qr-binary.ipynb",
      "provenance": [],
      "include_colab_link": true
    }
  },
  "cells": [
    {
      "cell_type": "markdown",
      "metadata": {
        "id": "view-in-github",
        "colab_type": "text"
      },
      "source": [
        "<a href=\"https://colab.research.google.com/github/matthiaskozubal/LARP_programs/blob/main/text-to-qr-binary.ipynb\" target=\"_parent\"><img src=\"https://colab.research.google.com/assets/colab-badge.svg\" alt=\"Open In Colab\"/></a>"
      ]
    },
    {
      "cell_type": "code",
      "metadata": {
        "_cell_guid": "b1076dfc-b9ad-4769-8c92-a6c4dae69d19",
        "_uuid": "8f2839f25d086af736a60e9eeb907d3b93b6e0e5",
        "execution": {
          "iopub.execute_input": "2020-10-19T12:41:34.805968Z",
          "iopub.status.busy": "2020-10-19T12:41:34.805264Z",
          "iopub.status.idle": "2020-10-19T12:41:34.808406Z",
          "shell.execute_reply": "2020-10-19T12:41:34.807643Z"
        },
        "papermill": {
          "duration": 0.021031,
          "end_time": "2020-10-19T12:41:34.808529",
          "exception": false,
          "start_time": "2020-10-19T12:41:34.787498",
          "status": "completed"
        },
        "tags": [],
        "id": "tgdMj2vW0VIe"
      },
      "source": [
        "import os"
      ],
      "execution_count": 1,
      "outputs": []
    },
    {
      "cell_type": "markdown",
      "metadata": {
        "papermill": {
          "duration": 0.008604,
          "end_time": "2020-10-19T12:41:34.826659",
          "exception": false,
          "start_time": "2020-10-19T12:41:34.818055",
          "status": "completed"
        },
        "tags": [],
        "id": "0ykHTlF90VIv"
      },
      "source": [
        "# My libraries"
      ]
    },
    {
      "cell_type": "code",
      "metadata": {
        "_cell_guid": "79c7e3d0-c299-4dcb-8224-4455121ee9b0",
        "_uuid": "d629ff2d2480ee46fbb7e2d37f6b5fab8052498a",
        "execution": {
          "iopub.execute_input": "2020-10-19T12:41:34.848992Z",
          "iopub.status.busy": "2020-10-19T12:41:34.848305Z",
          "iopub.status.idle": "2020-10-19T12:41:47.607644Z",
          "shell.execute_reply": "2020-10-19T12:41:47.606728Z"
        },
        "papermill": {
          "duration": 12.772471,
          "end_time": "2020-10-19T12:41:47.607838",
          "exception": false,
          "start_time": "2020-10-19T12:41:34.835367",
          "status": "completed"
        },
        "tags": [],
        "id": "pIbTzC_50VIx",
        "outputId": "990704b7-d18a-4490-c2d5-8fc4a588f90e",
        "colab": {
          "base_uri": "https://localhost:8080/"
        }
      },
      "source": [
        "pip install --upgrade pip"
      ],
      "execution_count": 2,
      "outputs": [
        {
          "output_type": "stream",
          "text": [
            "Collecting pip\n",
            "\u001b[?25l  Downloading https://files.pythonhosted.org/packages/cb/28/91f26bd088ce8e22169032100d4260614fc3da435025ff389ef1d396a433/pip-20.2.4-py2.py3-none-any.whl (1.5MB)\n",
            "\u001b[K     |████████████████████████████████| 1.5MB 2.8MB/s \n",
            "\u001b[?25hInstalling collected packages: pip\n",
            "  Found existing installation: pip 19.3.1\n",
            "    Uninstalling pip-19.3.1:\n",
            "      Successfully uninstalled pip-19.3.1\n",
            "Successfully installed pip-20.2.4\n"
          ],
          "name": "stdout"
        }
      ]
    },
    {
      "cell_type": "code",
      "metadata": {
        "execution": {
          "iopub.execute_input": "2020-10-19T12:41:47.650831Z",
          "iopub.status.busy": "2020-10-19T12:41:47.650123Z",
          "iopub.status.idle": "2020-10-19T12:41:56.393651Z",
          "shell.execute_reply": "2020-10-19T12:41:56.394282Z"
        },
        "papermill": {
          "duration": 8.767752,
          "end_time": "2020-10-19T12:41:56.394436",
          "exception": false,
          "start_time": "2020-10-19T12:41:47.626684",
          "status": "completed"
        },
        "tags": [],
        "id": "6kMosxj10VJB",
        "outputId": "1439367c-63d4-4af5-9b65-8487eded4c62"
      },
      "source": [
        "pip install qrcode[pil] # https://pypi.org/project/qrcode/"
      ],
      "execution_count": null,
      "outputs": [
        {
          "output_type": "stream",
          "text": [
            "Collecting qrcode[pil]\r\n",
            "  Downloading qrcode-6.1-py2.py3-none-any.whl (31 kB)\r\n",
            "Requirement already satisfied: six in /opt/conda/lib/python3.7/site-packages (from qrcode[pil]) (1.14.0)\r\n",
            "Requirement already satisfied: pillow; extra == \"pil\" in /opt/conda/lib/python3.7/site-packages (from qrcode[pil]) (7.2.0)\r\n",
            "Installing collected packages: qrcode\r\n",
            "Successfully installed qrcode-6.1\r\n",
            "Note: you may need to restart the kernel to use updated packages.\n"
          ],
          "name": "stdout"
        }
      ]
    },
    {
      "cell_type": "code",
      "metadata": {
        "id": "h6dQLT2N7YLa",
        "outputId": "6962872c-6069-4393-f021-9c6c7d7497b0",
        "colab": {
          "base_uri": "https://localhost:8080/"
        }
      },
      "source": [
        "pip install qrcode"
      ],
      "execution_count": 4,
      "outputs": [
        {
          "output_type": "stream",
          "text": [
            "Collecting qrcode\n",
            "  Downloading qrcode-6.1-py2.py3-none-any.whl (31 kB)\n",
            "Requirement already satisfied: six in /usr/local/lib/python3.6/dist-packages (from qrcode) (1.15.0)\n",
            "Installing collected packages: qrcode\n",
            "Successfully installed qrcode-6.1\n"
          ],
          "name": "stdout"
        }
      ]
    },
    {
      "cell_type": "code",
      "metadata": {
        "execution": {
          "iopub.execute_input": "2020-10-19T12:41:56.444059Z",
          "iopub.status.busy": "2020-10-19T12:41:56.443035Z",
          "iopub.status.idle": "2020-10-19T12:41:56.455791Z",
          "shell.execute_reply": "2020-10-19T12:41:56.455045Z"
        },
        "papermill": {
          "duration": 0.038836,
          "end_time": "2020-10-19T12:41:56.455908",
          "exception": false,
          "start_time": "2020-10-19T12:41:56.417072",
          "status": "completed"
        },
        "tags": [],
        "id": "9gIyNvJz0VJJ"
      },
      "source": [
        "import qrcode\n",
        "import numpy as np"
      ],
      "execution_count": 5,
      "outputs": []
    },
    {
      "cell_type": "markdown",
      "metadata": {
        "papermill": {
          "duration": 0.020692,
          "end_time": "2020-10-19T12:41:56.497861",
          "exception": false,
          "start_time": "2020-10-19T12:41:56.477169",
          "status": "completed"
        },
        "tags": [],
        "id": "qGWWXtls0VJR"
      },
      "source": [
        "https://liacs.leidenuniv.nl/~kosterswa/nono/sjoerd/indexeng.html"
      ]
    },
    {
      "cell_type": "markdown",
      "metadata": {
        "papermill": {
          "duration": 0.020852,
          "end_time": "2020-10-19T12:41:56.539740",
          "exception": false,
          "start_time": "2020-10-19T12:41:56.518888",
          "status": "completed"
        },
        "tags": [],
        "id": "jJrPgXeP0VJT"
      },
      "source": [
        "# I. Generate QR code from text"
      ]
    },
    {
      "cell_type": "code",
      "metadata": {
        "execution": {
          "iopub.execute_input": "2020-10-19T12:41:56.596099Z",
          "iopub.status.busy": "2020-10-19T12:41:56.595363Z",
          "iopub.status.idle": "2020-10-19T12:41:56.598423Z",
          "shell.execute_reply": "2020-10-19T12:41:56.599127Z"
        },
        "papermill": {
          "duration": 0.038581,
          "end_time": "2020-10-19T12:41:56.599272",
          "exception": false,
          "start_time": "2020-10-19T12:41:56.560691",
          "status": "completed"
        },
        "tags": [],
        "id": "nGUMDDNX0VJU"
      },
      "source": [
        "def text_to_QR(text, version, box_size, border, output, show='no'):\n",
        "    \"\"\"Generate QR code from text, return as binary array or jpg file\n",
        "    \n",
        "    >>> text_to_QR(text='sample text', varsion=1, box_size=1, border=1, output=['bool', 'jpeg'])\n",
        "    \"\"\"\n",
        "\n",
        "    ## Generate QR code\n",
        "    qr = qrcode.QRCode(\n",
        "            version = version,\n",
        "            box_size = box_size,\n",
        "            border = border)\n",
        "    qr.add_data(text)\n",
        "    qr.make(fit=True)\n",
        "    img = qr.make_image(fill_color='black', back_color='white') # https://matplotlib.org/3.1.0/gallery/color/named_colors.html\n",
        "\n",
        "    ## View\n",
        "    if show == 'yes':\n",
        "        qr_view = qrcode.QRCode(\n",
        "                version = version,\n",
        "                box_size = 1,\n",
        "                border = 1)\n",
        "\n",
        "        qr_view.add_data(text)\n",
        "        qr_view.make(fit=True)\n",
        "        img_view = qr_view.make_image(fill_color='black', back_color='white')\n",
        "        img_view\n",
        "        np.asarray(img.convert('L'))\n",
        "        np.asarray(img.convert('L')).astype('bool')\n",
        "\n",
        "    ## Save\n",
        "    # https://www.pluralsight.com/guides/importing-image-data-into-numpy-arrays\n",
        "    if output == 'bool':\n",
        "        np.savetxt('qr_binary.txt', np.asarray(img.convert('L')).astype('bool'), fmt='%.0i')\n",
        "    elif output == 'jpeg':\n",
        "        img.save('qr_binary.jpeg', 'JPEG', quality=100, optimize=False, progressive=False) # don't change"
      ],
      "execution_count": 6,
      "outputs": []
    },
    {
      "cell_type": "code",
      "metadata": {
        "execution": {
          "iopub.execute_input": "2020-10-19T12:41:56.647275Z",
          "iopub.status.busy": "2020-10-19T12:41:56.646273Z",
          "iopub.status.idle": "2020-10-19T12:41:56.649438Z",
          "shell.execute_reply": "2020-10-19T12:41:56.648825Z"
        },
        "papermill": {
          "duration": 0.028656,
          "end_time": "2020-10-19T12:41:56.649565",
          "exception": false,
          "start_time": "2020-10-19T12:41:56.620909",
          "status": "completed"
        },
        "tags": [],
        "id": "2h3g2YGc0VJd"
      },
      "source": [
        "# help(text_to_QR)"
      ],
      "execution_count": 7,
      "outputs": []
    },
    {
      "cell_type": "code",
      "metadata": {
        "execution": {
          "iopub.execute_input": "2020-10-19T12:41:56.716659Z",
          "iopub.status.busy": "2020-10-19T12:41:56.715893Z",
          "iopub.status.idle": "2020-10-19T12:41:56.765030Z",
          "shell.execute_reply": "2020-10-19T12:41:56.764412Z"
        },
        "papermill": {
          "duration": 0.094182,
          "end_time": "2020-10-19T12:41:56.765190",
          "exception": false,
          "start_time": "2020-10-19T12:41:56.671008",
          "status": "completed"
        },
        "tags": [],
        "id": "dHk_UTwN0VJk"
      },
      "source": [
        "text_to_QR(text='wlaz kotek na plotek', version=1, box_size=1, border=1, show='yes', output='jpeg')"
      ],
      "execution_count": 8,
      "outputs": []
    },
    {
      "cell_type": "code",
      "metadata": {
        "papermill": {
          "duration": 0.02164,
          "end_time": "2020-10-19T12:41:56.808512",
          "exception": false,
          "start_time": "2020-10-19T12:41:56.786872",
          "status": "completed"
        },
        "tags": [],
        "id": "JMniXaW30VJq"
      },
      "source": [
        ""
      ],
      "execution_count": null,
      "outputs": []
    }
  ]
}